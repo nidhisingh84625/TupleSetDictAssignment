{
 "cells": [
  {
   "cell_type": "markdown",
   "id": "6d6cb019-0a45-419f-8b8b-4394c99a545f",
   "metadata": {},
   "source": [
    "#Q1. What are the characteristics of the tuples? Is tuple immutable?"
   ]
  },
  {
   "cell_type": "markdown",
   "id": "c13cde79-ab79-482c-bbfc-b11a0b91b866",
   "metadata": {},
   "source": [
    "Characteristics of Tuples:\n",
    "1. They are indexed\n",
    "2. Tuples are ordered\n",
    "3. These are immutable\n",
    "4. They can contain duplicate items\n",
    "\n",
    "Tuples are immutable in nature. Thus, we cannot make changes after creating it."
   ]
  },
  {
   "cell_type": "markdown",
   "id": "77591da2-475d-42d6-9c92-986a04ac341c",
   "metadata": {},
   "source": [
    "#Q2. What are the two tuple methods in python? Give an example of each method. Give a reason why\n",
    "tuples have only two in-built methods as compared to Lists."
   ]
  },
  {
   "cell_type": "markdown",
   "id": "9d6c2a16-a1f5-48c4-b420-f86c3108daed",
   "metadata": {},
   "source": [
    "Python has two built-in methods that we can use on tuples.\n",
    "1. count()\n",
    "2. index()"
   ]
  },
  {
   "cell_type": "code",
   "execution_count": 13,
   "id": "70eca2eb-5cd7-4146-92c8-eb2221d16d23",
   "metadata": {},
   "outputs": [
    {
     "name": "stdout",
     "output_type": "stream",
     "text": [
      "3\n",
      "4\n"
     ]
    }
   ],
   "source": [
    "tup = (1, 5, 7, 9, 3,2,1,1)\n",
    "print(tup.count(1))\n",
    "print(tup.index(3))"
   ]
  },
  {
   "cell_type": "markdown",
   "id": "0b8c1a64-3a40-4093-8e5e-66a8c155f06a",
   "metadata": {},
   "source": [
    "tuple is an immutable data structure in python. Elements of Tuple cannot be modified once they are created. Because of this, there are only a limited number of methods available for working with tuples.\n",
    "\n",
    "tuples are immutable while lists are mutable. It simply means that you can change the existing values in a list. But you cannot change the same value if it is stored in the tuple."
   ]
  },
  {
   "cell_type": "markdown",
   "id": "f6e51e15-45c1-40fa-a4fc-9889a7cb4d73",
   "metadata": {},
   "source": [
    "#Q3. Which collection datatypes in python do not allow duplicate items? Write a code using a set to remove\n",
    "duplicates from the given list.\n",
    "List = [1, 1, 1, 2, 1, 3, 1, 4, 2, 1, 2, 2, 2, 3, 2, 4, 3, 1, 3, 2, 3, 3, 3, 4, 4, 1, 4, 2, 4, 3, 4, 4]"
   ]
  },
  {
   "cell_type": "markdown",
   "id": "66b3d599-36fb-4cc9-81e6-2ed418ca2431",
   "metadata": {},
   "source": [
    "Sets in Python are unordered collections of unique elements. By their nature, duplicates aren't allowed. Therefore, converting a list into a set removes the duplicates."
   ]
  },
  {
   "cell_type": "code",
   "execution_count": 4,
   "id": "2af8bfba-276c-4df8-bc82-d1345ed98027",
   "metadata": {},
   "outputs": [
    {
     "name": "stdout",
     "output_type": "stream",
     "text": [
      "The Original list is: [1, 1, 1, 2, 1, 3, 1, 4, 2, 1, 2, 2, 2, 3, 2, 4, 3, 1, 3, 2, 3, 3, 3, 4, 4, 1, 4, 2, 4, 3, 4, 4]\n",
      "List without duplicates : [1, 2, 3, 4]\n"
     ]
    }
   ],
   "source": [
    "L = [1, 1, 1, 2, 1, 3, 1, 4, 2, 1, 2, 2, 2, 3, 2, 4, 3, 1, 3, 2, 3, 3, 3, 4, 4, 1, 4, 2, 4, 3, 4, 4]\n",
    "print(\"The Original list is: \"+ str(L))\n",
    "my_set = set(L)\n",
    "L_without_duplicates = list(my_set)\n",
    "print(\"List without duplicates :\", L_without_duplicates)"
   ]
  },
  {
   "cell_type": "markdown",
   "id": "3c756424-5f13-4eec-882f-10f5a0d7ea31",
   "metadata": {},
   "source": [
    "#Q4. Explain the difference between the union() and update() methods for a set. Give an example of\n",
    "each method."
   ]
  },
  {
   "cell_type": "markdown",
   "id": "835663de-d2d6-4c03-94ba-41c9234fe041",
   "metadata": {},
   "source": [
    "The main difference between the union() method and the update() method is that union() returns a new set that contains all the elements from both sets, while update() modifies one of the sets to include all the elements from both sets."
   ]
  },
  {
   "cell_type": "code",
   "execution_count": 53,
   "id": "87fbcffa-e64f-48b8-8ba5-1ae76aeb3ddb",
   "metadata": {},
   "outputs": [
    {
     "name": "stdout",
     "output_type": "stream",
     "text": [
      "A :  {1, 2, 3, 4, 5}\n",
      "B :  {4, 5, 6, 7, 8, 9}\n",
      "A Union B :  {1, 2, 3, 4, 5, 6, 7, 8, 9}\n",
      "A Update B :  {1, 2, 3, 4, 5, 6, 7, 8, 9}\n"
     ]
    }
   ],
   "source": [
    "A = {1,2,3,4,5}\n",
    "B = {4,5,6,7,8,9}\n",
    "S = A.union(B)\n",
    "print('A : ',A)\n",
    "print('B : ',B)\n",
    "print('A Union B : ',S)\n",
    "A.update(B)\n",
    "print('A Update B : ',A)"
   ]
  },
  {
   "cell_type": "markdown",
   "id": "bbde4c53-5f7b-4972-a279-0fd8a7f86163",
   "metadata": {},
   "source": [
    "#Q5. What is a dictionary? Give an example. Also, state whether a dictionary is ordered or unordered."
   ]
  },
  {
   "cell_type": "markdown",
   "id": "c56ba6c9-0f5c-4b1e-9c77-890180a98fb1",
   "metadata": {},
   "source": [
    "Dictionaries are used to store data values in key:value pairs.\n",
    "A dictionary is a collection which is ordered, changeable and do not allow duplicates."
   ]
  },
  {
   "cell_type": "code",
   "execution_count": 54,
   "id": "0532670b-388a-4651-93bb-38f3e4e4104b",
   "metadata": {},
   "outputs": [
    {
     "name": "stdout",
     "output_type": "stream",
     "text": [
      "{'Name': 'Nidhi', 'Course': 'DataScience', 'year': 2023}\n"
     ]
    }
   ],
   "source": [
    "mydict = {\"Name\": \"Nidhi\",\"Course\": \"DataScience\", \"year\": 2023}\n",
    "print(mydict)"
   ]
  },
  {
   "cell_type": "markdown",
   "id": "6bc43c5a-39c5-4b2b-8080-cec6dca59da7",
   "metadata": {},
   "source": [
    "Dictionaries are ordered, it means that the items have a defined order, and that order will not change."
   ]
  },
  {
   "cell_type": "markdown",
   "id": "6a447684-b60c-4355-bea9-fd8c55e3b7cc",
   "metadata": {},
   "source": [
    "#Q6. Can we create a nested dictionary? If so, please give an example by creating a simple one-level\n",
    "nested dictionary."
   ]
  },
  {
   "cell_type": "markdown",
   "id": "6187a11a-77c1-48b1-8142-4df1fb6292f0",
   "metadata": {},
   "source": [
    "Yes, we can create nested dictionary.\n",
    "Nesting Dictionary means putting a dictionary inside another dictionary."
   ]
  },
  {
   "cell_type": "code",
   "execution_count": 9,
   "id": "62381117-0e75-4db1-85a5-942457f63d48",
   "metadata": {},
   "outputs": [
    {
     "name": "stdout",
     "output_type": "stream",
     "text": [
      "{'Dict1': {'name': 'Nidhi', 'age': '19'}, 'Dict2': {1: 'Hi', 2: 'Hello'}}\n"
     ]
    }
   ],
   "source": [
    "Nest_Dict = { 'Dict1': {'name': 'Nidhi', 'age': '19'},'Dict2': {1: 'Hi', 2: 'Hello'}}\n",
    "print(Nest_Dict)\n"
   ]
  },
  {
   "cell_type": "markdown",
   "id": "7ddb571f-791a-4cb0-a9a4-b04f3b6225d8",
   "metadata": {},
   "source": [
    "#Q7. Using setdefault() method, create key named topics in the given dictionary and also add the value of\n",
    "the key as this list ['Python', 'Machine Learning’, 'Deep Learning']\n",
    "dict1 = {'language' : 'Python', 'course': 'Data Science Masters'}"
   ]
  },
  {
   "cell_type": "code",
   "execution_count": 22,
   "id": "a53a3f8f-d0f1-4a50-9cfc-b42e666c6658",
   "metadata": {},
   "outputs": [
    {
     "name": "stdout",
     "output_type": "stream",
     "text": [
      "{'language': 'Python', 'course': 'Data Science Masters', 'topics': ['Python', 'Machine Learning', 'Deep Learning']}\n"
     ]
    }
   ],
   "source": [
    "dict1 = {'language' : 'Python', 'course': 'Data Science Masters'}\n",
    "dict1.setdefault('topics', ['Python', 'Machine Learning','Deep Learning'])\n",
    "print(dict1)"
   ]
  },
  {
   "cell_type": "markdown",
   "id": "42898311-b61a-47a0-8aca-8e867ebe4a25",
   "metadata": {},
   "source": [
    "Q8. What are the three view objects in dictionaries? Use the three in-built methods in python to display\n",
    "these three view objects for the given dictionary.\n",
    "dict1 = {'Sport': 'Cricket' , 'Teams': ['India', 'Australia', 'England', 'South Africa', 'Sri Lanka', 'New Zealand']}"
   ]
  },
  {
   "cell_type": "markdown",
   "id": "181cd004-2e5b-42f5-91b6-aea7c78f6355",
   "metadata": {},
   "source": [
    "These are three view objects in dictionaries:\n",
    "1. keys\n",
    "2. values\n",
    "3. items"
   ]
  },
  {
   "cell_type": "code",
   "execution_count": 26,
   "id": "292e1fba-3834-4c6f-b94f-fdf736e83160",
   "metadata": {},
   "outputs": [
    {
     "data": {
      "text/plain": [
       "dict_items([('Sport', 'Cricket'), ('Teams', ['India', 'Australia', 'England', 'South Africa', 'Sri Lanka', 'New Zealand'])])"
      ]
     },
     "execution_count": 26,
     "metadata": {},
     "output_type": "execute_result"
    }
   ],
   "source": [
    "dict1 = {'Sport': 'Cricket' , 'Teams': ['India', 'Australia', 'England', 'South Africa', 'Sri Lanka', 'New Zealand']}\n",
    "dict1.items()"
   ]
  },
  {
   "cell_type": "code",
   "execution_count": 24,
   "id": "b2cfa94f-eb15-411a-8d34-452dd40df7de",
   "metadata": {},
   "outputs": [
    {
     "data": {
      "text/plain": [
       "dict_keys(['Sport', 'Teams'])"
      ]
     },
     "execution_count": 24,
     "metadata": {},
     "output_type": "execute_result"
    }
   ],
   "source": [
    "dict1.keys()"
   ]
  },
  {
   "cell_type": "code",
   "execution_count": 25,
   "id": "69a01944-ce76-4c0b-b839-a1b35776209a",
   "metadata": {},
   "outputs": [
    {
     "data": {
      "text/plain": [
       "dict_values(['Cricket', ['India', 'Australia', 'England', 'South Africa', 'Sri Lanka', 'New Zealand']])"
      ]
     },
     "execution_count": 25,
     "metadata": {},
     "output_type": "execute_result"
    }
   ],
   "source": [
    "dict1.values()"
   ]
  },
  {
   "cell_type": "code",
   "execution_count": null,
   "id": "7e22473c-5f85-41a1-9b2e-01cdd973d15e",
   "metadata": {},
   "outputs": [],
   "source": []
  }
 ],
 "metadata": {
  "kernelspec": {
   "display_name": "Python 3 (ipykernel)",
   "language": "python",
   "name": "python3"
  },
  "language_info": {
   "codemirror_mode": {
    "name": "ipython",
    "version": 3
   },
   "file_extension": ".py",
   "mimetype": "text/x-python",
   "name": "python",
   "nbconvert_exporter": "python",
   "pygments_lexer": "ipython3",
   "version": "3.10.8"
  }
 },
 "nbformat": 4,
 "nbformat_minor": 5
}
